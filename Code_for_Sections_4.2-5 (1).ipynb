{
 "cells": [
  {
   "cell_type": "code",
   "execution_count": 1,
   "id": "19464b51-a80c-43eb-8c4e-4f8091fd8006",
   "metadata": {},
   "outputs": [],
   "source": [
    "#4.2 Data Cleaning"
   ]
  },
  {
   "cell_type": "markdown",
   "id": "08480043",
   "metadata": {},
   "source": []
  },
  {
   "cell_type": "code",
   "execution_count": 2,
   "id": "bec665f1-def5-409d-97a3-68cc9bb828d2",
   "metadata": {},
   "outputs": [],
   "source": [
    "import pandas as pd\n",
    "import numpy as np\n",
    "import matplotlib.pyplot as plt"
   ]
  },
  {
   "cell_type": "code",
   "execution_count": 3,
   "id": "36b5291a-2247-4d8d-8bf0-92aab17be44f",
   "metadata": {},
   "outputs": [],
   "source": [
    "df1 = pd.read_csv('Barley_price-1.csv')\n",
    "df2 = pd.read_csv('Barley_production-1.csv')"
   ]
  },
  {
   "cell_type": "code",
   "execution_count": 4,
   "id": "24225fdb-2300-4fd9-a27b-4ba0be4fefd0",
   "metadata": {},
   "outputs": [],
   "source": [
    "#Collapses barley production data frame to state-year level\n",
    "df2 = df2[[\"State\", \"Year\", \"Value\"]]"
   ]
  },
  {
   "cell_type": "code",
   "execution_count": 5,
   "id": "4a2021ef-d520-4a72-b9ed-2f272315fd21",
   "metadata": {},
   "outputs": [],
   "source": [
    "#Clean formatting of production values\n",
    "df2['Value'] = df2['Value'].str.replace(',', '')"
   ]
  },
  {
   "cell_type": "code",
   "execution_count": 6,
   "id": "cf813f29-6c5b-46e4-ad20-ce0e59162c47",
   "metadata": {},
   "outputs": [],
   "source": [
    "#Change string to integer values\n",
    "df2['Value'] = pd.to_numeric(df2['Value'])"
   ]
  },
  {
   "cell_type": "code",
   "execution_count": 7,
   "id": "4f71dd37-aef1-4ad9-8111-93f61cb52b5e",
   "metadata": {},
   "outputs": [],
   "source": [
    "#Divide values by 1 million to represent them in millions\n",
    "df2['Value'] = df2['Value'] / 1000000"
   ]
  },
  {
   "cell_type": "code",
   "execution_count": 8,
   "id": "9e57e1ec-6730-4e3f-a9ba-d834fb672765",
   "metadata": {},
   "outputs": [],
   "source": [
    "#Rename for clarity\n",
    "df2 = df2.rename(columns = {'Value':'Production (millions)'})"
   ]
  },
  {
   "cell_type": "code",
   "execution_count": 9,
   "id": "3d5dddd1-9766-4ff5-9cc2-60c80ededf60",
   "metadata": {},
   "outputs": [],
   "source": [
    "#Sums production for each state for each year\n",
    "df2 = df2.groupby(['Year', 'State'], as_index = False)['Production (millions)'].sum()"
   ]
  },
  {
   "cell_type": "code",
   "execution_count": 10,
   "id": "57f0ecb7-a0d2-47e2-a45f-cae80fb1c2fe",
   "metadata": {},
   "outputs": [],
   "source": [
    "#Collapses barley price data frame to state-year level\n",
    "df1 = df1[['Year', 'State', 'Value']]\n",
    "df1 = df1.rename(columns = {'Value':'Price'})"
   ]
  },
  {
   "cell_type": "code",
   "execution_count": 11,
   "id": "33218626-7a90-4bfe-8406-f5f98bd1ce4a",
   "metadata": {},
   "outputs": [],
   "source": [
    "#Merges barley production data frame with barley price\n",
    "#Inner merge ensures there is production data for each price,\n",
    "#However, this omits some price data\n",
    "df = df2.merge(df1, how = 'inner')"
   ]
  },
  {
   "cell_type": "code",
   "execution_count": 12,
   "id": "6dcf29c4-b291-40ee-be25-19a240e9acf7",
   "metadata": {},
   "outputs": [
    {
     "data": {
      "text/html": [
       "<div>\n",
       "<style scoped>\n",
       "    .dataframe tbody tr th:only-of-type {\n",
       "        vertical-align: middle;\n",
       "    }\n",
       "\n",
       "    .dataframe tbody tr th {\n",
       "        vertical-align: top;\n",
       "    }\n",
       "\n",
       "    .dataframe thead th {\n",
       "        text-align: right;\n",
       "    }\n",
       "</style>\n",
       "<table border=\"1\" class=\"dataframe\">\n",
       "  <thead>\n",
       "    <tr style=\"text-align: right;\">\n",
       "      <th></th>\n",
       "      <th>Year</th>\n",
       "      <th>State</th>\n",
       "      <th>Production (millions)</th>\n",
       "      <th>Price</th>\n",
       "    </tr>\n",
       "  </thead>\n",
       "  <tbody>\n",
       "    <tr>\n",
       "      <th>0</th>\n",
       "      <td>1990</td>\n",
       "      <td>ARIZONA</td>\n",
       "      <td>1.575</td>\n",
       "      <td>2.79</td>\n",
       "    </tr>\n",
       "    <tr>\n",
       "      <th>1</th>\n",
       "      <td>1990</td>\n",
       "      <td>CALIFORNIA</td>\n",
       "      <td>13.340</td>\n",
       "      <td>2.62</td>\n",
       "    </tr>\n",
       "    <tr>\n",
       "      <th>2</th>\n",
       "      <td>1990</td>\n",
       "      <td>COLORADO</td>\n",
       "      <td>12.000</td>\n",
       "      <td>3.06</td>\n",
       "    </tr>\n",
       "    <tr>\n",
       "      <th>3</th>\n",
       "      <td>1990</td>\n",
       "      <td>DELAWARE</td>\n",
       "      <td>1.890</td>\n",
       "      <td>1.89</td>\n",
       "    </tr>\n",
       "    <tr>\n",
       "      <th>4</th>\n",
       "      <td>1990</td>\n",
       "      <td>IDAHO</td>\n",
       "      <td>56.160</td>\n",
       "      <td>2.62</td>\n",
       "    </tr>\n",
       "    <tr>\n",
       "      <th>...</th>\n",
       "      <td>...</td>\n",
       "      <td>...</td>\n",
       "      <td>...</td>\n",
       "      <td>...</td>\n",
       "    </tr>\n",
       "    <tr>\n",
       "      <th>606</th>\n",
       "      <td>2017</td>\n",
       "      <td>MONTANA</td>\n",
       "      <td>28.815</td>\n",
       "      <td>4.34</td>\n",
       "    </tr>\n",
       "    <tr>\n",
       "      <th>607</th>\n",
       "      <td>2017</td>\n",
       "      <td>NORTH DAKOTA</td>\n",
       "      <td>24.885</td>\n",
       "      <td>4.31</td>\n",
       "    </tr>\n",
       "    <tr>\n",
       "      <th>608</th>\n",
       "      <td>2017</td>\n",
       "      <td>VIRGINIA</td>\n",
       "      <td>0.803</td>\n",
       "      <td>2.60</td>\n",
       "    </tr>\n",
       "    <tr>\n",
       "      <th>609</th>\n",
       "      <td>2017</td>\n",
       "      <td>WASHINGTON</td>\n",
       "      <td>4.505</td>\n",
       "      <td>3.09</td>\n",
       "    </tr>\n",
       "    <tr>\n",
       "      <th>610</th>\n",
       "      <td>2017</td>\n",
       "      <td>WYOMING</td>\n",
       "      <td>6.426</td>\n",
       "      <td>4.70</td>\n",
       "    </tr>\n",
       "  </tbody>\n",
       "</table>\n",
       "<p>611 rows × 4 columns</p>\n",
       "</div>"
      ],
      "text/plain": [
       "     Year         State  Production (millions)  Price\n",
       "0    1990       ARIZONA                  1.575   2.79\n",
       "1    1990    CALIFORNIA                 13.340   2.62\n",
       "2    1990      COLORADO                 12.000   3.06\n",
       "3    1990      DELAWARE                  1.890   1.89\n",
       "4    1990         IDAHO                 56.160   2.62\n",
       "..    ...           ...                    ...    ...\n",
       "606  2017       MONTANA                 28.815   4.34\n",
       "607  2017  NORTH DAKOTA                 24.885   4.31\n",
       "608  2017      VIRGINIA                  0.803   2.60\n",
       "609  2017    WASHINGTON                  4.505   3.09\n",
       "610  2017       WYOMING                  6.426   4.70\n",
       "\n",
       "[611 rows x 4 columns]"
      ]
     },
     "execution_count": 12,
     "metadata": {},
     "output_type": "execute_result"
    }
   ],
   "source": [
    "#Uncomment below to download final data set\n",
    "#df.to_csv('final_dataset.csv')\n",
    "df"
   ]
  },
  {
   "cell_type": "code",
   "execution_count": 13,
   "id": "25d59ea1-309a-41ee-ba47-b22e645c38b6",
   "metadata": {},
   "outputs": [
    {
     "data": {
      "text/plain": [
       "'The data set provides information on barley prices and quantities produced in various \\nU.S. states for every year from 1990 until 2017. The data has been cleaned, but it\\noriginates from data collected by the U.S. Department of Agriculture. Users should be\\naware that the data does not include all 50 U.S. states and some years may have more\\nstates represented than others.'"
      ]
     },
     "execution_count": 13,
     "metadata": {},
     "output_type": "execute_result"
    }
   ],
   "source": [
    "\"\"\"The data set provides information on barley prices and quantities produced in various \n",
    "U.S. states for every year from 1990 until 2017. The data has been cleaned, but it\n",
    "originates from data collected by the U.S. Department of Agriculture. Users should be\n",
    "aware that the data does not include all 50 U.S. states and some years may have more\n",
    "states represented than others.\"\"\""
   ]
  },
  {
   "cell_type": "code",
   "execution_count": 14,
   "id": "acd72686-a731-4d58-9676-fb3ae71045c0",
   "metadata": {},
   "outputs": [],
   "source": [
    "\n",
    "#4.3 Time Series Plot\n"
   ]
  },
  {
   "cell_type": "code",
   "execution_count": 15,
   "id": "7bfb7bf1-c2ce-4678-bc36-bb6a19bce149",
   "metadata": {},
   "outputs": [],
   "source": [
    "#Creates new column with prices weighted based on production in duplicate dataframe\n",
    "df3 = df\n",
    "df3['wtd_p'] = df3['Production (millions)'] * df3['Price']"
   ]
  },
  {
   "cell_type": "code",
   "execution_count": 16,
   "id": "9888e872-3e7d-406e-ab00-928af69bdda8",
   "metadata": {},
   "outputs": [],
   "source": [
    "#New df with summed weighted prices as well as producion quantities (used as weights) for each year\n",
    "wtd_av = df3.groupby(['Year'], as_index = False)[['wtd_p', 'Production (millions)']].sum()"
   ]
  },
  {
   "cell_type": "code",
   "execution_count": 17,
   "id": "6b5d30bb-9bb4-4fe2-a9a8-a19e6df78d11",
   "metadata": {},
   "outputs": [],
   "source": [
    "#Creates new column with weighted average prices for each year\n",
    "wtd_av['Weighted Average Price'] = wtd_av['wtd_p'] / wtd_av['Production (millions)']"
   ]
  },
  {
   "cell_type": "code",
   "execution_count": 18,
   "id": "e625c66f-a0da-48bc-ae5e-c3db79ac744f",
   "metadata": {},
   "outputs": [
    {
     "data": {
      "text/html": [
       "<div>\n",
       "<style scoped>\n",
       "    .dataframe tbody tr th:only-of-type {\n",
       "        vertical-align: middle;\n",
       "    }\n",
       "\n",
       "    .dataframe tbody tr th {\n",
       "        vertical-align: top;\n",
       "    }\n",
       "\n",
       "    .dataframe thead th {\n",
       "        text-align: right;\n",
       "    }\n",
       "</style>\n",
       "<table border=\"1\" class=\"dataframe\">\n",
       "  <thead>\n",
       "    <tr style=\"text-align: right;\">\n",
       "      <th></th>\n",
       "      <th>Year</th>\n",
       "      <th>Weighted Average Price</th>\n",
       "    </tr>\n",
       "  </thead>\n",
       "  <tbody>\n",
       "    <tr>\n",
       "      <th>0</th>\n",
       "      <td>1990</td>\n",
       "      <td>2.159061</td>\n",
       "    </tr>\n",
       "    <tr>\n",
       "      <th>1</th>\n",
       "      <td>1991</td>\n",
       "      <td>2.146205</td>\n",
       "    </tr>\n",
       "    <tr>\n",
       "      <th>2</th>\n",
       "      <td>1992</td>\n",
       "      <td>2.079725</td>\n",
       "    </tr>\n",
       "    <tr>\n",
       "      <th>3</th>\n",
       "      <td>1993</td>\n",
       "      <td>2.042221</td>\n",
       "    </tr>\n",
       "    <tr>\n",
       "      <th>4</th>\n",
       "      <td>1994</td>\n",
       "      <td>2.090659</td>\n",
       "    </tr>\n",
       "  </tbody>\n",
       "</table>\n",
       "</div>"
      ],
      "text/plain": [
       "   Year  Weighted Average Price\n",
       "0  1990                2.159061\n",
       "1  1991                2.146205\n",
       "2  1992                2.079725\n",
       "3  1993                2.042221\n",
       "4  1994                2.090659"
      ]
     },
     "execution_count": 18,
     "metadata": {},
     "output_type": "execute_result"
    }
   ],
   "source": [
    "#Simplifies new data frame\n",
    "wtd_av = wtd_av[['Year', 'Weighted Average Price']]\n",
    "wtd_av.head()"
   ]
  },
  {
   "cell_type": "code",
   "execution_count": 19,
   "id": "a874c898-31e1-4252-81c1-61425c988680",
   "metadata": {},
   "outputs": [
    {
     "data": {
      "image/png": "[encoded data removed]",
      "text/plain": [
       "<Figure size 640x480 with 1 Axes>"
      ]
     },
     "metadata": {},
     "output_type": "display_data"
    }
   ],
   "source": [
    "wtd_av.plot(x= 'Year', y = 'Weighted Average Price')\n",
    "plt.title(\"Average Barley Price (1990-2017)\")\n",
    "plt.ylabel(\"Price\")\n",
    "\n",
    "#Uncomment to download\n",
    "#plt.savefig('Avg_Price_Graph.png')\n",
    "\n",
    "plt.show()"
   ]
  },
  {
   "cell_type": "code",
   "execution_count": 20,
   "id": "30d8368d-83f1-4691-a0a3-120b26b37c66",
   "metadata": {},
   "outputs": [
    {
     "data": {
      "text/plain": [
       "'After plotting the data for barley prices over time, there is a clear upwards trend.\\nThat is, prices for barley face an upward trend and appear to be rising over time. There\\nhave also been many fluctuations in the price. Notably, in 2008 there was a big drop \\ncorrelating with the great recession and another drop around 2012. Even though, prices seem\\nto vary and in 2017 prices were declining, the general trend seems to be upward.'"
      ]
     },
     "execution_count": 20,
     "metadata": {},
     "output_type": "execute_result"
    }
   ],
   "source": [
    "\"\"\"After plotting the data for barley prices over time, there is a clear upwards trend.\n",
    "That is, prices for barley face an upward trend and appear to be rising over time. There\n",
    "have also been many fluctuations in the price. Notably, in 2008 there was a big drop \n",
    "correlating with the great recession and another drop around 2012. Even though, prices seem\n",
    "to vary and in 2017 prices were declining, the general trend seems to be upward.\"\"\""
   ]
  },
  {
   "cell_type": "code",
   "execution_count": 21,
   "id": "1d4c6a3e-2f3e-4ef3-93a9-d375b9d32570",
   "metadata": {},
   "outputs": [],
   "source": [
    "\n",
    "#4.4 Summary Table\n"
   ]
  },
  {
   "cell_type": "code",
   "execution_count": 22,
   "id": "74ee7da8-d312-4c84-8ec7-c4799eab3435",
   "metadata": {},
   "outputs": [],
   "source": [
    "#Creates new table with mean production values in the 90s\n",
    "table90s = df.query('(Year >= 1990) and (Year <= 1999)' )\n",
    "table90s = table90s.groupby(['State'], as_index = False)['Production (millions)'].mean()\n",
    "table90s = table90s.rename(columns = {'Production (millions)':'1990-1999'})"
   ]
  },
  {
   "cell_type": "code",
   "execution_count": 23,
   "id": "448dfb3e-a1d4-46de-861c-09337c525f1d",
   "metadata": {},
   "outputs": [],
   "source": [
    "#Mean production table for the 2000s decade\n",
    "table2000s = df.query('(Year >= 2000) and (Year <= 2009)' )\n",
    "table2000s = table2000s.groupby(['State'], as_index = False)['Production (millions)'].mean()\n",
    "table2000s = table2000s.rename(columns = {'Production (millions)':'2000-2009'})"
   ]
  },
  {
   "cell_type": "code",
   "execution_count": 24,
   "id": "aa3a501e-8e62-4460-b684-088da80b23ab",
   "metadata": {},
   "outputs": [],
   "source": [
    "#Mean production table for the 2010s decade\n",
    "table10s = df.query('(Year >= 2010) and (Year <= 2017)' )\n",
    "table10s = table10s.groupby(['State'], as_index = False)['Production (millions)'].mean()\n",
    "table10s = table10s.rename(columns = {'Production (millions)':'2010-2017'})"
   ]
  },
  {
   "cell_type": "code",
   "execution_count": 25,
   "id": "d550028d-96a3-4ce6-8548-716733d1e7d4",
   "metadata": {},
   "outputs": [],
   "source": [
    "#Merges three tables together\n",
    "table = table90s.merge(table2000s, how = 'left')\n",
    "table = table.merge(table10s, how = 'left')\n",
    "table = table.round(4)"
   ]
  },
  {
   "cell_type": "code",
   "execution_count": 26,
   "id": "28b55b5e-7a05-4af9-9ec0-58427c989554",
   "metadata": {},
   "outputs": [],
   "source": [
    "#Returns table with specified states\n",
    "table = table.query('State == [\"IDAHO\", \"MINNESOTA\", \"MONTANA\", \"NORTH DAKOTA\", \"WYOMING\"]')"
   ]
  },
  {
   "cell_type": "code",
   "execution_count": 27,
   "id": "4427fd02-11e0-4428-9304-fac260016f74",
   "metadata": {},
   "outputs": [
    {
     "data": {
      "image/png": "[encoded data removed]",
      "text/plain": [
       "<Figure size 800x20 with 1 Axes>"
      ]
     },
     "metadata": {},
     "output_type": "display_data"
    }
   ],
   "source": [
    "#Creates formatted table for final product\n",
    "fig = plt.figure(figsize = (8, .2))\n",
    "ax = fig.add_subplot(111)\n",
    "\n",
    "ax.table(cellText = table.values, colLabels = table.columns,\n",
    "         cellLoc = 'center')\n",
    "\n",
    "ax.set_title('Average State Production for Barley per Decade (in millions)')\n",
    "ax.axis('off')\n",
    "plt.show()"
   ]
  },
  {
   "cell_type": "code",
   "execution_count": 28,
   "id": "3cb9a4bd-a3fe-425e-968b-dca337380c24",
   "metadata": {},
   "outputs": [],
   "source": [
    "\n",
    "\n",
    "#5. Short Answer\n",
    "\n"
   ]
  },
  {
   "cell_type": "code",
   "execution_count": 29,
   "id": "619a2ca1-f913-4407-ac2d-9bcac0881fa3",
   "metadata": {},
   "outputs": [],
   "source": [
    "#pip install linearmodels\n",
    "from linearmodels import PanelOLS"
   ]
  },
  {
   "cell_type": "code",
   "execution_count": 30,
   "id": "7a34b8da-6988-4aa0-bdfe-aa05183c65d2",
   "metadata": {},
   "outputs": [],
   "source": [
    "df = df.rename(columns = {'Production (millions)':'Production'})\n"
   ]
  },
  {
   "cell_type": "code",
   "execution_count": 31,
   "id": "3b74e08d-3cd5-496d-ae0f-7380bc7ec7f3",
   "metadata": {},
   "outputs": [
    {
     "data": {
      "text/html": [
       "<div>\n",
       "<style scoped>\n",
       "    .dataframe tbody tr th:only-of-type {\n",
       "        vertical-align: middle;\n",
       "    }\n",
       "\n",
       "    .dataframe tbody tr th {\n",
       "        vertical-align: top;\n",
       "    }\n",
       "\n",
       "    .dataframe thead th {\n",
       "        text-align: right;\n",
       "    }\n",
       "</style>\n",
       "<table border=\"1\" class=\"dataframe\">\n",
       "  <thead>\n",
       "    <tr style=\"text-align: right;\">\n",
       "      <th></th>\n",
       "      <th></th>\n",
       "      <th>Production</th>\n",
       "      <th>Price</th>\n",
       "    </tr>\n",
       "    <tr>\n",
       "      <th>State</th>\n",
       "      <th>Year</th>\n",
       "      <th></th>\n",
       "      <th></th>\n",
       "    </tr>\n",
       "  </thead>\n",
       "  <tbody>\n",
       "    <tr>\n",
       "      <th rowspan=\"5\" valign=\"top\">ARIZONA</th>\n",
       "      <th>1990</th>\n",
       "      <td>1.575</td>\n",
       "      <td>2.79</td>\n",
       "    </tr>\n",
       "    <tr>\n",
       "      <th>1991</th>\n",
       "      <td>2.400</td>\n",
       "      <td>2.60</td>\n",
       "    </tr>\n",
       "    <tr>\n",
       "      <th>1992</th>\n",
       "      <td>2.205</td>\n",
       "      <td>2.60</td>\n",
       "    </tr>\n",
       "    <tr>\n",
       "      <th>1993</th>\n",
       "      <td>2.900</td>\n",
       "      <td>2.60</td>\n",
       "    </tr>\n",
       "    <tr>\n",
       "      <th>1994</th>\n",
       "      <td>3.135</td>\n",
       "      <td>2.85</td>\n",
       "    </tr>\n",
       "    <tr>\n",
       "      <th>...</th>\n",
       "      <th>...</th>\n",
       "      <td>...</td>\n",
       "      <td>...</td>\n",
       "    </tr>\n",
       "    <tr>\n",
       "      <th rowspan=\"5\" valign=\"top\">WYOMING</th>\n",
       "      <th>2013</th>\n",
       "      <td>6.052</td>\n",
       "      <td>6.71</td>\n",
       "    </tr>\n",
       "    <tr>\n",
       "      <th>2014</th>\n",
       "      <td>7.276</td>\n",
       "      <td>5.98</td>\n",
       "    </tr>\n",
       "    <tr>\n",
       "      <th>2015</th>\n",
       "      <td>8.170</td>\n",
       "      <td>5.99</td>\n",
       "    </tr>\n",
       "    <tr>\n",
       "      <th>2016</th>\n",
       "      <td>7.872</td>\n",
       "      <td>5.54</td>\n",
       "    </tr>\n",
       "    <tr>\n",
       "      <th>2017</th>\n",
       "      <td>6.426</td>\n",
       "      <td>4.70</td>\n",
       "    </tr>\n",
       "  </tbody>\n",
       "</table>\n",
       "<p>611 rows × 2 columns</p>\n",
       "</div>"
      ],
      "text/plain": [
       "              Production  Price\n",
       "State   Year                   \n",
       "ARIZONA 1990       1.575   2.79\n",
       "        1991       2.400   2.60\n",
       "        1992       2.205   2.60\n",
       "        1993       2.900   2.60\n",
       "        1994       3.135   2.85\n",
       "...                  ...    ...\n",
       "WYOMING 2013       6.052   6.71\n",
       "        2014       7.276   5.98\n",
       "        2015       8.170   5.99\n",
       "        2016       7.872   5.54\n",
       "        2017       6.426   4.70\n",
       "\n",
       "[611 rows x 2 columns]"
      ]
     },
     "execution_count": 31,
     "metadata": {},
     "output_type": "execute_result"
    }
   ],
   "source": [
    "#Creates panel data for state each year\n",
    "df = df.set_index(['State', 'Year'])\n",
    "df = df.groupby(['State', 'Year'])[['Production', 'Price']].sum()\n",
    "df"
   ]
  },
  {
   "cell_type": "code",
   "execution_count": 32,
   "id": "b2091d01-e968-4c02-a4cc-706ba416767c",
   "metadata": {},
   "outputs": [
    {
     "name": "stdout",
     "output_type": "stream",
     "text": [
      "                          PanelOLS Estimation Summary                           \n",
      "================================================================================\n",
      "Dep. Variable:             Production   R-squared:                        0.0135\n",
      "Estimator:                   PanelOLS   R-squared (Between):              0.0575\n",
      "No. Observations:                 611   R-squared (Within):              -0.2029\n",
      "Date:                Sat, Jan 11 2025   R-squared (Overall):              0.0135\n",
      "Time:                        17:52:42   Log-likelihood                   -2774.2\n",
      "Cov. Estimator:                Robust                                           \n",
      "                                        F-statistic:                      8.3057\n",
      "Entities:                          28   P-value                           0.0041\n",
      "Avg Obs:                       21.821   Distribution:                   F(1,609)\n",
      "Min Obs:                       9.0000                                           \n",
      "Max Obs:                       28.000   F-statistic (robust):             9.0347\n",
      "                                        P-value                           0.0028\n",
      "Time periods:                      28   Distribution:                   F(1,609)\n",
      "Avg Obs:                       21.821                                           \n",
      "Min Obs:                      10.0000                                           \n",
      "Max Obs:                       27.000                                           \n",
      "                                                                                \n",
      "                             Parameter Estimates                              \n",
      "==============================================================================\n",
      "            Parameter  Std. Err.     T-stat    P-value    Lower CI    Upper CI\n",
      "------------------------------------------------------------------------------\n",
      "const          6.6272     2.3012     2.8798     0.0041      2.1079      11.147\n",
      "Price          2.1370     0.7110     3.0058     0.0028      0.7407      3.5332\n",
      "==============================================================================\n",
      "\n",
      "\n"
     ]
    }
   ],
   "source": [
    "#5.2: Calculates OLS regression with white standard errors\n",
    "Y = df['Production']\n",
    "df['const'] = 1\n",
    "dd = ['const', 'Price']\n",
    "difdif = PanelOLS(Y, df[dd]).fit(cov_type = 'robust')\n",
    "print(difdif)"
   ]
  },
  {
   "cell_type": "code",
   "execution_count": 33,
   "id": "e0699ff7-437e-49a4-b6cc-3e0cc2c8ee21",
   "metadata": {},
   "outputs": [
    {
     "name": "stdout",
     "output_type": "stream",
     "text": [
      "                          PanelOLS Estimation Summary                           \n",
      "================================================================================\n",
      "Dep. Variable:             Production   R-squared:                        0.1134\n",
      "Estimator:                   PanelOLS   R-squared (Between):             -0.1529\n",
      "No. Observations:                 611   R-squared (Within):               0.1134\n",
      "Date:                Sat, Jan 11 2025   R-squared (Overall):             -0.0701\n",
      "Time:                        17:52:42   Log-likelihood                   -2221.5\n",
      "Cov. Estimator:             Clustered                                           \n",
      "                                        F-statistic:                      74.437\n",
      "Entities:                          28   P-value                           0.0000\n",
      "Avg Obs:                       21.821   Distribution:                   F(1,582)\n",
      "Min Obs:                       9.0000                                           \n",
      "Max Obs:                       28.000   F-statistic (robust):             5.0167\n",
      "                                        P-value                           0.0255\n",
      "Time periods:                      28   Distribution:                   F(1,582)\n",
      "Avg Obs:                       21.821                                           \n",
      "Min Obs:                      10.0000                                           \n",
      "Max Obs:                       27.000                                           \n",
      "                                                                                \n",
      "                             Parameter Estimates                              \n",
      "==============================================================================\n",
      "            Parameter  Std. Err.     T-stat    P-value    Lower CI    Upper CI\n",
      "------------------------------------------------------------------------------\n",
      "const          21.509     3.9786     5.4062     0.0000      13.695      29.323\n",
      "Price         -3.1895     1.4240    -2.2398     0.0255     -5.9864     -0.3927\n",
      "==============================================================================\n",
      "\n",
      "F-test for Poolability: 110.02\n",
      "P-value: 0.0000\n",
      "Distribution: F(27,582)\n",
      "\n",
      "Included effects: Entity\n"
     ]
    }
   ],
   "source": [
    "#5.4: Calculates regression with state fixed effects using clustered standard errors at the state level\n",
    "stateFE = PanelOLS(Y, df[dd], entity_effects = True)\n",
    "print(stateFE.fit(cov_type = 'clustered', cluster_entity = True, cluster_time = False, group_debias = True))"
   ]
  },
  {
   "cell_type": "code",
   "execution_count": 34,
   "id": "345689ea-27c0-4802-8b63-cbdfeedaee63",
   "metadata": {},
   "outputs": [
    {
     "name": "stdout",
     "output_type": "stream",
     "text": [
      "                          PanelOLS Estimation Summary                           \n",
      "================================================================================\n",
      "Dep. Variable:             Production   R-squared:                        0.0586\n",
      "Estimator:                   PanelOLS   R-squared (Between):             -0.2707\n",
      "No. Observations:                 611   R-squared (Within):               0.0510\n",
      "Date:                Sat, Jan 11 2025   R-squared (Overall):             -0.1609\n",
      "Time:                        17:52:43   Log-likelihood                   -2169.2\n",
      "Cov. Estimator:             Clustered                                           \n",
      "                                        F-statistic:                      34.530\n",
      "Entities:                          28   P-value                           0.0000\n",
      "Avg Obs:                       21.821   Distribution:                   F(1,555)\n",
      "Min Obs:                       9.0000                                           \n",
      "Max Obs:                       28.000   F-statistic (robust):             2.0075\n",
      "                                        P-value                           0.1571\n",
      "Time periods:                      28   Distribution:                   F(1,555)\n",
      "Avg Obs:                       21.821                                           \n",
      "Min Obs:                      10.0000                                           \n",
      "Max Obs:                       27.000                                           \n",
      "                                                                                \n",
      "                             Parameter Estimates                              \n",
      "==============================================================================\n",
      "            Parameter  Std. Err.     T-stat    P-value    Lower CI    Upper CI\n",
      "------------------------------------------------------------------------------\n",
      "const          28.118     10.927     2.5733     0.0103      6.6546      49.581\n",
      "Price         -5.5551     3.9206    -1.4169     0.1571     -13.256      2.1460\n",
      "==============================================================================\n",
      "\n",
      "F-test for Poolability: 64.188\n",
      "P-value: 0.0000\n",
      "Distribution: F(54,555)\n",
      "\n",
      "Included effects: Entity, Time\n"
     ]
    }
   ],
   "source": [
    "#Calculates regression with state and year fixed effects using clustered standard error for both\n",
    "st_yrFE = PanelOLS(Y, df[dd], entity_effects = True, time_effects = True)\n",
    "print(st_yrFE.fit(cov_type = 'clustered', cluster_entity = True, cluster_time = True, group_debias = True))"
   ]
  },
  {
   "cell_type": "code",
   "execution_count": 35,
   "id": "e4ca4976-9ac7-4032-ac00-c502d737da45",
   "metadata": {},
   "outputs": [
    {
     "data": {
      "text/html": [
       "<div>\n",
       "<style scoped>\n",
       "    .dataframe tbody tr th:only-of-type {\n",
       "        vertical-align: middle;\n",
       "    }\n",
       "\n",
       "    .dataframe tbody tr th {\n",
       "        vertical-align: top;\n",
       "    }\n",
       "\n",
       "    .dataframe thead th {\n",
       "        text-align: right;\n",
       "    }\n",
       "</style>\n",
       "<table border=\"1\" class=\"dataframe\">\n",
       "  <thead>\n",
       "    <tr style=\"text-align: right;\">\n",
       "      <th></th>\n",
       "      <th></th>\n",
       "      <th>Production</th>\n",
       "      <th>Price</th>\n",
       "    </tr>\n",
       "    <tr>\n",
       "      <th>State</th>\n",
       "      <th>Year</th>\n",
       "      <th></th>\n",
       "      <th></th>\n",
       "    </tr>\n",
       "  </thead>\n",
       "  <tbody>\n",
       "    <tr>\n",
       "      <th rowspan=\"5\" valign=\"top\">ARIZONA</th>\n",
       "      <th>1990</th>\n",
       "      <td>1.575</td>\n",
       "      <td>2.79</td>\n",
       "    </tr>\n",
       "    <tr>\n",
       "      <th>1991</th>\n",
       "      <td>2.400</td>\n",
       "      <td>2.60</td>\n",
       "    </tr>\n",
       "    <tr>\n",
       "      <th>1992</th>\n",
       "      <td>2.205</td>\n",
       "      <td>2.60</td>\n",
       "    </tr>\n",
       "    <tr>\n",
       "      <th>1993</th>\n",
       "      <td>2.900</td>\n",
       "      <td>2.60</td>\n",
       "    </tr>\n",
       "    <tr>\n",
       "      <th>1994</th>\n",
       "      <td>3.135</td>\n",
       "      <td>2.85</td>\n",
       "    </tr>\n",
       "    <tr>\n",
       "      <th>...</th>\n",
       "      <th>...</th>\n",
       "      <td>...</td>\n",
       "      <td>...</td>\n",
       "    </tr>\n",
       "    <tr>\n",
       "      <th rowspan=\"5\" valign=\"top\">WYOMING</th>\n",
       "      <th>2013</th>\n",
       "      <td>6.052</td>\n",
       "      <td>6.71</td>\n",
       "    </tr>\n",
       "    <tr>\n",
       "      <th>2014</th>\n",
       "      <td>7.276</td>\n",
       "      <td>5.98</td>\n",
       "    </tr>\n",
       "    <tr>\n",
       "      <th>2015</th>\n",
       "      <td>8.170</td>\n",
       "      <td>5.99</td>\n",
       "    </tr>\n",
       "    <tr>\n",
       "      <th>2016</th>\n",
       "      <td>7.872</td>\n",
       "      <td>5.54</td>\n",
       "    </tr>\n",
       "    <tr>\n",
       "      <th>2017</th>\n",
       "      <td>6.426</td>\n",
       "      <td>4.70</td>\n",
       "    </tr>\n",
       "  </tbody>\n",
       "</table>\n",
       "<p>611 rows × 2 columns</p>\n",
       "</div>"
      ],
      "text/plain": [
       "              Production  Price\n",
       "State   Year                   \n",
       "ARIZONA 1990       1.575   2.79\n",
       "        1991       2.400   2.60\n",
       "        1992       2.205   2.60\n",
       "        1993       2.900   2.60\n",
       "        1994       3.135   2.85\n",
       "...                  ...    ...\n",
       "WYOMING 2013       6.052   6.71\n",
       "        2014       7.276   5.98\n",
       "        2015       8.170   5.99\n",
       "        2016       7.872   5.54\n",
       "        2017       6.426   4.70\n",
       "\n",
       "[611 rows x 2 columns]"
      ]
     },
     "execution_count": 35,
     "metadata": {},
     "output_type": "execute_result"
    }
   ],
   "source": [
    "df = df.drop(columns = 'const')\n",
    "\n",
    "#Uncomment to download panel style data\n",
    "#df.to_csv('Panel_Dataset.csv')\n",
    "df"
   ]
  },
  {
   "cell_type": "code",
   "execution_count": null,
   "id": "55c3902a-094b-4aba-ad39-e92966158c47",
   "metadata": {},
   "outputs": [],
   "source": []
  },
  {
   "cell_type": "code",
   "execution_count": null,
   "id": "75215d38-25a1-45ff-996f-e35c4f24b2ab",
   "metadata": {},
   "outputs": [],
   "source": []
  },
  {
   "cell_type": "code",
   "execution_count": null,
   "id": "cae8957a-3cf2-4ab0-aa31-e3432e4c720d",
   "metadata": {},
   "outputs": [],
   "source": []
  },
  {
   "cell_type": "code",
   "execution_count": null,
   "id": "cd8a510e-560b-4c06-b9d7-389d636dd43e",
   "metadata": {},
   "outputs": [],
   "source": []
  },
  {
   "cell_type": "code",
   "execution_count": null,
   "id": "b0453f8c-9675-4688-84c3-4e34331be243",
   "metadata": {},
   "outputs": [],
   "source": []
  },
  {
   "cell_type": "code",
   "execution_count": null,
   "id": "2dc46c6b-8fd1-4212-8313-1d194ddecc10",
   "metadata": {},
   "outputs": [],
   "source": []
  },
  {
   "cell_type": "code",
   "execution_count": null,
   "id": "c89c55c3-ddf3-4759-992f-45ef9fef5b2e",
   "metadata": {},
   "outputs": [],
   "source": []
  }
 ],
 "metadata": {
  "kernelspec": {
   "display_name": "Python 3 (ipykernel)",
   "language": "python",
   "name": "python3"
  },
  "language_info": {
   "codemirror_mode": {
    "name": "ipython",
    "version": 3
   },
   "file_extension": ".py",
   "mimetype": "text/x-python",
   "name": "python",
   "nbconvert_exporter": "python",
   "pygments_lexer": "ipython3",
   "version": "3.9.13"
  }
 },
 "nbformat": 4,
 "nbformat_minor": 5
}
